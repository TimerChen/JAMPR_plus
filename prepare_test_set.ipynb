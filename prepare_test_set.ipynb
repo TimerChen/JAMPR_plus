{
 "cells": [
  {
   "cell_type": "markdown",
   "metadata": {
    "collapsed": true,
    "pycharm": {
     "name": "#%% md\n"
    }
   },
   "source": [
    "Buffer formatted Test set instances\n"
   ]
  },
  {
   "cell_type": "code",
   "execution_count": 1,
   "metadata": {
    "collapsed": false,
    "pycharm": {
     "name": "#%%\n"
    }
   },
   "outputs": [],
   "source": [
    "%load_ext autoreload\n",
    "%autoreload 2\n"
   ]
  },
  {
   "cell_type": "code",
   "execution_count": 6,
   "metadata": {
    "collapsed": false,
    "pycharm": {
     "name": "#%%\n"
    }
   },
   "outputs": [],
   "source": [
    "import os\n",
    "import pickle\n",
    "\n",
    "from lib.utils.io_utils import (\n",
    "    read_tsplib_cvrptw,\n",
    "    normalize_instance,\n",
    "    to_rp_instance,\n",
    ")\n",
    "\n"
   ]
  },
  {
   "cell_type": "code",
   "execution_count": 7,
   "metadata": {
    "collapsed": false,
    "pycharm": {
     "name": "#%%\n"
    }
   },
   "outputs": [],
   "source": [
    "LPATH = \"./data/solomon_txt/\"\n",
    "DATA_SPATH = \"./data/solomon_prep.pkl\"\n",
    "GROUPS = [\"r\", \"c\", \"rc\"]\n",
    "TYPES = [\"1\", \"2\"]\n",
    "\n"
   ]
  },
  {
   "cell_type": "code",
   "execution_count": 9,
   "metadata": {
    "collapsed": false,
    "pycharm": {
     "name": "#%%\n"
    }
   },
   "outputs": [
    {
     "name": "stdout",
     "output_type": "stream",
     "text": [
      "processing type: r1\n",
      "preparing file 'r101.txt' from ./data/solomon_txt/r1/r101.txt\n",
      "preparing file 'r102.txt' from ./data/solomon_txt/r1/r102.txt\n",
      "preparing file 'r103.txt' from ./data/solomon_txt/r1/r103.txt\n",
      "preparing file 'r104.txt' from ./data/solomon_txt/r1/r104.txt\n",
      "preparing file 'r105.txt' from ./data/solomon_txt/r1/r105.txt\n",
      "preparing file 'r106.txt' from ./data/solomon_txt/r1/r106.txt\n",
      "preparing file 'r107.txt' from ./data/solomon_txt/r1/r107.txt\n",
      "preparing file 'r108.txt' from ./data/solomon_txt/r1/r108.txt\n",
      "preparing file 'r109.txt' from ./data/solomon_txt/r1/r109.txt\n",
      "preparing file 'r110.txt' from ./data/solomon_txt/r1/r110.txt\n",
      "preparing file 'r111.txt' from ./data/solomon_txt/r1/r111.txt\n",
      "preparing file 'r112.txt' from ./data/solomon_txt/r1/r112.txt\n",
      "processing type: r2\n",
      "preparing file 'r201.txt' from ./data/solomon_txt/r2/r201.txt\n",
      "preparing file 'r202.txt' from ./data/solomon_txt/r2/r202.txt\n",
      "preparing file 'r203.txt' from ./data/solomon_txt/r2/r203.txt\n",
      "preparing file 'r204.txt' from ./data/solomon_txt/r2/r204.txt\n",
      "preparing file 'r205.txt' from ./data/solomon_txt/r2/r205.txt\n",
      "preparing file 'r206.txt' from ./data/solomon_txt/r2/r206.txt\n",
      "preparing file 'r207.txt' from ./data/solomon_txt/r2/r207.txt\n",
      "preparing file 'r208.txt' from ./data/solomon_txt/r2/r208.txt\n",
      "preparing file 'r209.txt' from ./data/solomon_txt/r2/r209.txt\n",
      "preparing file 'r210.txt' from ./data/solomon_txt/r2/r210.txt\n",
      "preparing file 'r211.txt' from ./data/solomon_txt/r2/r211.txt\n",
      "processing type: c1\n",
      "preparing file 'c101.txt' from ./data/solomon_txt/c1/c101.txt\n",
      "preparing file 'c102.txt' from ./data/solomon_txt/c1/c102.txt\n",
      "preparing file 'c103.txt' from ./data/solomon_txt/c1/c103.txt\n",
      "preparing file 'c104.txt' from ./data/solomon_txt/c1/c104.txt\n",
      "preparing file 'c105.txt' from ./data/solomon_txt/c1/c105.txt\n",
      "preparing file 'c106.txt' from ./data/solomon_txt/c1/c106.txt\n",
      "preparing file 'c107.txt' from ./data/solomon_txt/c1/c107.txt\n",
      "preparing file 'c108.txt' from ./data/solomon_txt/c1/c108.txt\n",
      "preparing file 'c109.txt' from ./data/solomon_txt/c1/c109.txt\n",
      "processing type: c2\n",
      "preparing file 'c201.txt' from ./data/solomon_txt/c2/c201.txt\n",
      "preparing file 'c202.txt' from ./data/solomon_txt/c2/c202.txt\n",
      "preparing file 'c203.txt' from ./data/solomon_txt/c2/c203.txt\n",
      "preparing file 'c204.txt' from ./data/solomon_txt/c2/c204.txt\n",
      "preparing file 'c205.txt' from ./data/solomon_txt/c2/c205.txt\n",
      "preparing file 'c206.txt' from ./data/solomon_txt/c2/c206.txt\n",
      "preparing file 'c207.txt' from ./data/solomon_txt/c2/c207.txt\n",
      "preparing file 'c208.txt' from ./data/solomon_txt/c2/c208.txt\n",
      "processing type: rc1\n",
      "preparing file 'rc101.txt' from ./data/solomon_txt/rc1/rc101.txt\n",
      "preparing file 'rc102.txt' from ./data/solomon_txt/rc1/rc102.txt\n",
      "preparing file 'rc103.txt' from ./data/solomon_txt/rc1/rc103.txt\n",
      "preparing file 'rc104.txt' from ./data/solomon_txt/rc1/rc104.txt\n",
      "preparing file 'rc105.txt' from ./data/solomon_txt/rc1/rc105.txt\n",
      "preparing file 'rc106.txt' from ./data/solomon_txt/rc1/rc106.txt\n",
      "preparing file 'rc107.txt' from ./data/solomon_txt/rc1/rc107.txt\n",
      "preparing file 'rc108.txt' from ./data/solomon_txt/rc1/rc108.txt\n",
      "processing type: rc2\n",
      "preparing file 'rc201.txt' from ./data/solomon_txt/rc2/rc201.txt\n",
      "preparing file 'rc202.txt' from ./data/solomon_txt/rc2/rc202.txt\n",
      "preparing file 'rc203.txt' from ./data/solomon_txt/rc2/rc203.txt\n",
      "preparing file 'rc204.txt' from ./data/solomon_txt/rc2/rc204.txt\n",
      "preparing file 'rc205.txt' from ./data/solomon_txt/rc2/rc205.txt\n",
      "preparing file 'rc206.txt' from ./data/solomon_txt/rc2/rc206.txt\n",
      "preparing file 'rc207.txt' from ./data/solomon_txt/rc2/rc207.txt\n",
      "preparing file 'rc208.txt' from ./data/solomon_txt/rc2/rc208.txt\n"
     ]
    }
   ],
   "source": [
    "instances = {}\n",
    "for g in GROUPS:\n",
    "    types = [f\"{g}{t}\" for t in TYPES]\n",
    "    for type in types:\n",
    "        print(f\"processing type: {type}\")\n",
    "        load_pth = os.path.join(LPATH, type)\n",
    "        file_names = os.listdir(load_pth)\n",
    "        file_names.sort()\n",
    "\n",
    "        data = []\n",
    "        for fname in file_names:\n",
    "            pth = os.path.join(load_pth, fname)\n",
    "            print(f\"preparing file '{fname}' from {pth}\")\n",
    "            instance = read_tsplib_cvrptw(pth)\n",
    "            instance = normalize_instance(instance)\n",
    "            data.append(instance)\n",
    "\n",
    "        buffer = {'tw_frac=0.25': [], 'tw_frac=0.5': [], 'tw_frac=0.75': [], 'tw_frac=1.0': []}\n",
    "        # infer tw frac of instance\n",
    "        for instance in data:\n",
    "            org_df = instance['features'].loc[1:, :]    # without depot!\n",
    "            has_tw = (org_df.tw_start != 0)\n",
    "            tw_frac = has_tw.sum() / org_df.shape[0]\n",
    "            buffer[f\"tw_frac={tw_frac}\"].append(to_rp_instance(instance))\n",
    "\n",
    "        instances[type] = buffer"
   ]
  },
  {
   "cell_type": "code",
   "execution_count": 10,
   "metadata": {
    "collapsed": false,
    "pycharm": {
     "name": "#%%\n"
    }
   },
   "outputs": [
    {
     "data": {
      "text/plain": [
       "{'r1': {'tw_frac=0.25': [RPInstance( coords=ndarray_[101, 2],  demands=ndarray_[101],  tw=ndarray_[101, 2],  service_time=0.0,  graph_size=101,  org_service_horizon=230.0,  max_vehicle_number=25,  vehicle_capacity=1.0,  service_horizon=1.0,  depot_idx=[0]),\n",
       "   RPInstance( coords=ndarray_[101, 2],  demands=ndarray_[101],  tw=ndarray_[101, 2],  service_time=0.0,  graph_size=101,  org_service_horizon=230.0,  max_vehicle_number=25,  vehicle_capacity=1.0,  service_horizon=1.0,  depot_idx=[0])],\n",
       "  'tw_frac=0.5': [RPInstance( coords=ndarray_[101, 2],  demands=ndarray_[101],  tw=ndarray_[101, 2],  service_time=0.0,  graph_size=101,  org_service_horizon=230.0,  max_vehicle_number=25,  vehicle_capacity=1.0,  service_horizon=1.0,  depot_idx=[0]),\n",
       "   RPInstance( coords=ndarray_[101, 2],  demands=ndarray_[101],  tw=ndarray_[101, 2],  service_time=0.0,  graph_size=101,  org_service_horizon=230.0,  max_vehicle_number=25,  vehicle_capacity=1.0,  service_horizon=1.0,  depot_idx=[0])],\n",
       "  'tw_frac=0.75': [RPInstance( coords=ndarray_[101, 2],  demands=ndarray_[101],  tw=ndarray_[101, 2],  service_time=0.0,  graph_size=101,  org_service_horizon=230.0,  max_vehicle_number=25,  vehicle_capacity=1.0,  service_horizon=1.0,  depot_idx=[0]),\n",
       "   RPInstance( coords=ndarray_[101, 2],  demands=ndarray_[101],  tw=ndarray_[101, 2],  service_time=0.0,  graph_size=101,  org_service_horizon=230.0,  max_vehicle_number=25,  vehicle_capacity=1.0,  service_horizon=1.0,  depot_idx=[0])],\n",
       "  'tw_frac=1.0': [RPInstance( coords=ndarray_[101, 2],  demands=ndarray_[101],  tw=ndarray_[101, 2],  service_time=0.0,  graph_size=101,  org_service_horizon=230.0,  max_vehicle_number=25,  vehicle_capacity=1.0,  service_horizon=1.0,  depot_idx=[0]),\n",
       "   RPInstance( coords=ndarray_[101, 2],  demands=ndarray_[101],  tw=ndarray_[101, 2],  service_time=0.0,  graph_size=101,  org_service_horizon=230.0,  max_vehicle_number=25,  vehicle_capacity=1.0,  service_horizon=1.0,  depot_idx=[0]),\n",
       "   RPInstance( coords=ndarray_[101, 2],  demands=ndarray_[101],  tw=ndarray_[101, 2],  service_time=0.0,  graph_size=101,  org_service_horizon=230.0,  max_vehicle_number=25,  vehicle_capacity=1.0,  service_horizon=1.0,  depot_idx=[0]),\n",
       "   RPInstance( coords=ndarray_[101, 2],  demands=ndarray_[101],  tw=ndarray_[101, 2],  service_time=0.0,  graph_size=101,  org_service_horizon=230.0,  max_vehicle_number=25,  vehicle_capacity=1.0,  service_horizon=1.0,  depot_idx=[0]),\n",
       "   RPInstance( coords=ndarray_[101, 2],  demands=ndarray_[101],  tw=ndarray_[101, 2],  service_time=0.0,  graph_size=101,  org_service_horizon=230.0,  max_vehicle_number=25,  vehicle_capacity=1.0,  service_horizon=1.0,  depot_idx=[0]),\n",
       "   RPInstance( coords=ndarray_[101, 2],  demands=ndarray_[101],  tw=ndarray_[101, 2],  service_time=0.0,  graph_size=101,  org_service_horizon=230.0,  max_vehicle_number=25,  vehicle_capacity=1.0,  service_horizon=1.0,  depot_idx=[0])]},\n",
       " 'r2': {'tw_frac=0.25': [RPInstance( coords=ndarray_[101, 2],  demands=ndarray_[101],  tw=ndarray_[101, 2],  service_time=0.0,  graph_size=101,  org_service_horizon=1000.0,  max_vehicle_number=25,  vehicle_capacity=1.0,  service_horizon=1.0,  depot_idx=[0]),\n",
       "   RPInstance( coords=ndarray_[101, 2],  demands=ndarray_[101],  tw=ndarray_[101, 2],  service_time=0.0,  graph_size=101,  org_service_horizon=1000.0,  max_vehicle_number=25,  vehicle_capacity=1.0,  service_horizon=1.0,  depot_idx=[0])],\n",
       "  'tw_frac=0.5': [RPInstance( coords=ndarray_[101, 2],  demands=ndarray_[101],  tw=ndarray_[101, 2],  service_time=0.0,  graph_size=101,  org_service_horizon=1000.0,  max_vehicle_number=25,  vehicle_capacity=1.0,  service_horizon=1.0,  depot_idx=[0]),\n",
       "   RPInstance( coords=ndarray_[101, 2],  demands=ndarray_[101],  tw=ndarray_[101, 2],  service_time=0.0,  graph_size=101,  org_service_horizon=1000.0,  max_vehicle_number=25,  vehicle_capacity=1.0,  service_horizon=1.0,  depot_idx=[0])],\n",
       "  'tw_frac=0.75': [RPInstance( coords=ndarray_[101, 2],  demands=ndarray_[101],  tw=ndarray_[101, 2],  service_time=0.0,  graph_size=101,  org_service_horizon=1000.0,  max_vehicle_number=25,  vehicle_capacity=1.0,  service_horizon=1.0,  depot_idx=[0]),\n",
       "   RPInstance( coords=ndarray_[101, 2],  demands=ndarray_[101],  tw=ndarray_[101, 2],  service_time=0.0,  graph_size=101,  org_service_horizon=1000.0,  max_vehicle_number=25,  vehicle_capacity=1.0,  service_horizon=1.0,  depot_idx=[0])],\n",
       "  'tw_frac=1.0': [RPInstance( coords=ndarray_[101, 2],  demands=ndarray_[101],  tw=ndarray_[101, 2],  service_time=0.0,  graph_size=101,  org_service_horizon=1000.0,  max_vehicle_number=25,  vehicle_capacity=1.0,  service_horizon=1.0,  depot_idx=[0]),\n",
       "   RPInstance( coords=ndarray_[101, 2],  demands=ndarray_[101],  tw=ndarray_[101, 2],  service_time=0.0,  graph_size=101,  org_service_horizon=1000.0,  max_vehicle_number=25,  vehicle_capacity=1.0,  service_horizon=1.0,  depot_idx=[0]),\n",
       "   RPInstance( coords=ndarray_[101, 2],  demands=ndarray_[101],  tw=ndarray_[101, 2],  service_time=0.0,  graph_size=101,  org_service_horizon=1000.0,  max_vehicle_number=25,  vehicle_capacity=1.0,  service_horizon=1.0,  depot_idx=[0]),\n",
       "   RPInstance( coords=ndarray_[101, 2],  demands=ndarray_[101],  tw=ndarray_[101, 2],  service_time=0.0,  graph_size=101,  org_service_horizon=1000.0,  max_vehicle_number=25,  vehicle_capacity=1.0,  service_horizon=1.0,  depot_idx=[0]),\n",
       "   RPInstance( coords=ndarray_[101, 2],  demands=ndarray_[101],  tw=ndarray_[101, 2],  service_time=0.0,  graph_size=101,  org_service_horizon=1000.0,  max_vehicle_number=25,  vehicle_capacity=1.0,  service_horizon=1.0,  depot_idx=[0])]},\n",
       " 'c1': {'tw_frac=0.25': [RPInstance( coords=ndarray_[101, 2],  demands=ndarray_[101],  tw=ndarray_[101, 2],  service_time=0.0,  graph_size=101,  org_service_horizon=1236.0,  max_vehicle_number=25,  vehicle_capacity=1.0,  service_horizon=1.0,  depot_idx=[0])],\n",
       "  'tw_frac=0.5': [RPInstance( coords=ndarray_[101, 2],  demands=ndarray_[101],  tw=ndarray_[101, 2],  service_time=0.0,  graph_size=101,  org_service_horizon=1236.0,  max_vehicle_number=25,  vehicle_capacity=1.0,  service_horizon=1.0,  depot_idx=[0])],\n",
       "  'tw_frac=0.75': [RPInstance( coords=ndarray_[101, 2],  demands=ndarray_[101],  tw=ndarray_[101, 2],  service_time=0.0,  graph_size=101,  org_service_horizon=1236.0,  max_vehicle_number=25,  vehicle_capacity=1.0,  service_horizon=1.0,  depot_idx=[0])],\n",
       "  'tw_frac=1.0': [RPInstance( coords=ndarray_[101, 2],  demands=ndarray_[101],  tw=ndarray_[101, 2],  service_time=0.0,  graph_size=101,  org_service_horizon=1236.0,  max_vehicle_number=25,  vehicle_capacity=1.0,  service_horizon=1.0,  depot_idx=[0]),\n",
       "   RPInstance( coords=ndarray_[101, 2],  demands=ndarray_[101],  tw=ndarray_[101, 2],  service_time=0.0,  graph_size=101,  org_service_horizon=1236.0,  max_vehicle_number=25,  vehicle_capacity=1.0,  service_horizon=1.0,  depot_idx=[0]),\n",
       "   RPInstance( coords=ndarray_[101, 2],  demands=ndarray_[101],  tw=ndarray_[101, 2],  service_time=0.0,  graph_size=101,  org_service_horizon=1236.0,  max_vehicle_number=25,  vehicle_capacity=1.0,  service_horizon=1.0,  depot_idx=[0]),\n",
       "   RPInstance( coords=ndarray_[101, 2],  demands=ndarray_[101],  tw=ndarray_[101, 2],  service_time=0.0,  graph_size=101,  org_service_horizon=1236.0,  max_vehicle_number=25,  vehicle_capacity=1.0,  service_horizon=1.0,  depot_idx=[0]),\n",
       "   RPInstance( coords=ndarray_[101, 2],  demands=ndarray_[101],  tw=ndarray_[101, 2],  service_time=0.0,  graph_size=101,  org_service_horizon=1236.0,  max_vehicle_number=25,  vehicle_capacity=1.0,  service_horizon=1.0,  depot_idx=[0]),\n",
       "   RPInstance( coords=ndarray_[101, 2],  demands=ndarray_[101],  tw=ndarray_[101, 2],  service_time=0.0,  graph_size=101,  org_service_horizon=1236.0,  max_vehicle_number=25,  vehicle_capacity=1.0,  service_horizon=1.0,  depot_idx=[0])]},\n",
       " 'c2': {'tw_frac=0.25': [RPInstance( coords=ndarray_[101, 2],  demands=ndarray_[101],  tw=ndarray_[101, 2],  service_time=0.0,  graph_size=101,  org_service_horizon=3390.0,  max_vehicle_number=25,  vehicle_capacity=1.0,  service_horizon=1.0,  depot_idx=[0])],\n",
       "  'tw_frac=0.5': [RPInstance( coords=ndarray_[101, 2],  demands=ndarray_[101],  tw=ndarray_[101, 2],  service_time=0.0,  graph_size=101,  org_service_horizon=3390.0,  max_vehicle_number=25,  vehicle_capacity=1.0,  service_horizon=1.0,  depot_idx=[0])],\n",
       "  'tw_frac=0.75': [RPInstance( coords=ndarray_[101, 2],  demands=ndarray_[101],  tw=ndarray_[101, 2],  service_time=0.0,  graph_size=101,  org_service_horizon=3390.0,  max_vehicle_number=25,  vehicle_capacity=1.0,  service_horizon=1.0,  depot_idx=[0])],\n",
       "  'tw_frac=1.0': [RPInstance( coords=ndarray_[101, 2],  demands=ndarray_[101],  tw=ndarray_[101, 2],  service_time=0.0,  graph_size=101,  org_service_horizon=3390.0,  max_vehicle_number=25,  vehicle_capacity=1.0,  service_horizon=1.0,  depot_idx=[0]),\n",
       "   RPInstance( coords=ndarray_[101, 2],  demands=ndarray_[101],  tw=ndarray_[101, 2],  service_time=0.0,  graph_size=101,  org_service_horizon=3390.0,  max_vehicle_number=25,  vehicle_capacity=1.0,  service_horizon=1.0,  depot_idx=[0]),\n",
       "   RPInstance( coords=ndarray_[101, 2],  demands=ndarray_[101],  tw=ndarray_[101, 2],  service_time=0.0,  graph_size=101,  org_service_horizon=3390.0,  max_vehicle_number=25,  vehicle_capacity=1.0,  service_horizon=1.0,  depot_idx=[0]),\n",
       "   RPInstance( coords=ndarray_[101, 2],  demands=ndarray_[101],  tw=ndarray_[101, 2],  service_time=0.0,  graph_size=101,  org_service_horizon=3390.0,  max_vehicle_number=25,  vehicle_capacity=1.0,  service_horizon=1.0,  depot_idx=[0]),\n",
       "   RPInstance( coords=ndarray_[101, 2],  demands=ndarray_[101],  tw=ndarray_[101, 2],  service_time=0.0,  graph_size=101,  org_service_horizon=3390.0,  max_vehicle_number=25,  vehicle_capacity=1.0,  service_horizon=1.0,  depot_idx=[0])]},\n",
       " 'rc1': {'tw_frac=0.25': [RPInstance( coords=ndarray_[101, 2],  demands=ndarray_[101],  tw=ndarray_[101, 2],  service_time=0.0,  graph_size=101,  org_service_horizon=240.0,  max_vehicle_number=25,  vehicle_capacity=1.0,  service_horizon=1.0,  depot_idx=[0])],\n",
       "  'tw_frac=0.5': [RPInstance( coords=ndarray_[101, 2],  demands=ndarray_[101],  tw=ndarray_[101, 2],  service_time=0.0,  graph_size=101,  org_service_horizon=240.0,  max_vehicle_number=25,  vehicle_capacity=1.0,  service_horizon=1.0,  depot_idx=[0])],\n",
       "  'tw_frac=0.75': [RPInstance( coords=ndarray_[101, 2],  demands=ndarray_[101],  tw=ndarray_[101, 2],  service_time=0.0,  graph_size=101,  org_service_horizon=240.0,  max_vehicle_number=25,  vehicle_capacity=1.0,  service_horizon=1.0,  depot_idx=[0])],\n",
       "  'tw_frac=1.0': [RPInstance( coords=ndarray_[101, 2],  demands=ndarray_[101],  tw=ndarray_[101, 2],  service_time=0.0,  graph_size=101,  org_service_horizon=240.0,  max_vehicle_number=25,  vehicle_capacity=1.0,  service_horizon=1.0,  depot_idx=[0]),\n",
       "   RPInstance( coords=ndarray_[101, 2],  demands=ndarray_[101],  tw=ndarray_[101, 2],  service_time=0.0,  graph_size=101,  org_service_horizon=240.0,  max_vehicle_number=25,  vehicle_capacity=1.0,  service_horizon=1.0,  depot_idx=[0]),\n",
       "   RPInstance( coords=ndarray_[101, 2],  demands=ndarray_[101],  tw=ndarray_[101, 2],  service_time=0.0,  graph_size=101,  org_service_horizon=240.0,  max_vehicle_number=25,  vehicle_capacity=1.0,  service_horizon=1.0,  depot_idx=[0]),\n",
       "   RPInstance( coords=ndarray_[101, 2],  demands=ndarray_[101],  tw=ndarray_[101, 2],  service_time=0.0,  graph_size=101,  org_service_horizon=240.0,  max_vehicle_number=25,  vehicle_capacity=1.0,  service_horizon=1.0,  depot_idx=[0]),\n",
       "   RPInstance( coords=ndarray_[101, 2],  demands=ndarray_[101],  tw=ndarray_[101, 2],  service_time=0.0,  graph_size=101,  org_service_horizon=240.0,  max_vehicle_number=25,  vehicle_capacity=1.0,  service_horizon=1.0,  depot_idx=[0])]},\n",
       " 'rc2': {'tw_frac=0.25': [RPInstance( coords=ndarray_[101, 2],  demands=ndarray_[101],  tw=ndarray_[101, 2],  service_time=0.0,  graph_size=101,  org_service_horizon=960.0,  max_vehicle_number=25,  vehicle_capacity=1.0,  service_horizon=1.0,  depot_idx=[0])],\n",
       "  'tw_frac=0.5': [RPInstance( coords=ndarray_[101, 2],  demands=ndarray_[101],  tw=ndarray_[101, 2],  service_time=0.0,  graph_size=101,  org_service_horizon=960.0,  max_vehicle_number=25,  vehicle_capacity=1.0,  service_horizon=1.0,  depot_idx=[0])],\n",
       "  'tw_frac=0.75': [RPInstance( coords=ndarray_[101, 2],  demands=ndarray_[101],  tw=ndarray_[101, 2],  service_time=0.0,  graph_size=101,  org_service_horizon=960.0,  max_vehicle_number=25,  vehicle_capacity=1.0,  service_horizon=1.0,  depot_idx=[0])],\n",
       "  'tw_frac=1.0': [RPInstance( coords=ndarray_[101, 2],  demands=ndarray_[101],  tw=ndarray_[101, 2],  service_time=0.0,  graph_size=101,  org_service_horizon=960.0,  max_vehicle_number=25,  vehicle_capacity=1.0,  service_horizon=1.0,  depot_idx=[0]),\n",
       "   RPInstance( coords=ndarray_[101, 2],  demands=ndarray_[101],  tw=ndarray_[101, 2],  service_time=0.0,  graph_size=101,  org_service_horizon=960.0,  max_vehicle_number=25,  vehicle_capacity=1.0,  service_horizon=1.0,  depot_idx=[0]),\n",
       "   RPInstance( coords=ndarray_[101, 2],  demands=ndarray_[101],  tw=ndarray_[101, 2],  service_time=0.0,  graph_size=101,  org_service_horizon=960.0,  max_vehicle_number=25,  vehicle_capacity=1.0,  service_horizon=1.0,  depot_idx=[0]),\n",
       "   RPInstance( coords=ndarray_[101, 2],  demands=ndarray_[101],  tw=ndarray_[101, 2],  service_time=0.0,  graph_size=101,  org_service_horizon=960.0,  max_vehicle_number=25,  vehicle_capacity=1.0,  service_horizon=1.0,  depot_idx=[0]),\n",
       "   RPInstance( coords=ndarray_[101, 2],  demands=ndarray_[101],  tw=ndarray_[101, 2],  service_time=0.0,  graph_size=101,  org_service_horizon=960.0,  max_vehicle_number=25,  vehicle_capacity=1.0,  service_horizon=1.0,  depot_idx=[0])]}}"
      ]
     },
     "execution_count": 10,
     "metadata": {},
     "output_type": "execute_result"
    }
   ],
   "source": [
    "instances"
   ]
  },
  {
   "cell_type": "code",
   "execution_count": 11,
   "metadata": {
    "collapsed": false,
    "pycharm": {
     "name": "#%%\n"
    }
   },
   "outputs": [],
   "source": [
    "with open(DATA_SPATH, 'wb') as f:\n",
    "    pickle.dump(instances, f, protocol=pickle.HIGHEST_PROTOCOL)"
   ]
  },
  {
   "cell_type": "code",
   "execution_count": null,
   "metadata": {
    "collapsed": false,
    "pycharm": {
     "name": "#%%\n"
    }
   },
   "outputs": [],
   "source": []
  }
 ],
 "metadata": {
  "kernelspec": {
   "display_name": "Python 3.8.12 ('jampr')",
   "language": "python",
   "name": "python3"
  },
  "language_info": {
   "codemirror_mode": {
    "name": "ipython",
    "version": 2
   },
   "file_extension": ".py",
   "mimetype": "text/x-python",
   "name": "python",
   "nbconvert_exporter": "python",
   "pygments_lexer": "ipython2",
   "version": "3.8.12"
  },
  "vscode": {
   "interpreter": {
    "hash": "f622b5037fb681966d8d547605568ac59dd3b9b0420cfaa79db11902773282fb"
   }
  }
 },
 "nbformat": 4,
 "nbformat_minor": 0
}
